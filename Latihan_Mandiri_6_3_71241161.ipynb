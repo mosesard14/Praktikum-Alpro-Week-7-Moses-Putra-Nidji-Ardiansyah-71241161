{
  "nbformat": 4,
  "nbformat_minor": 0,
  "metadata": {
    "colab": {
      "provenance": [],
      "authorship_tag": "ABX9TyMo4r5AmhKkGFwhoEM6gmVc",
      "include_colab_link": true
    },
    "kernelspec": {
      "name": "python3",
      "display_name": "Python 3"
    },
    "language_info": {
      "name": "python"
    }
  },
  "cells": [
    {
      "cell_type": "markdown",
      "metadata": {
        "id": "view-in-github",
        "colab_type": "text"
      },
      "source": [
        "<a href=\"https://colab.research.google.com/github/mosesard14/Praktikum-Alpro-Week-7-Moses-Putra-Nidji-Ardiansyah-71241161/blob/main/Latihan_Mandiri_6_3_71241161.ipynb\" target=\"_parent\"><img src=\"https://colab.research.google.com/assets/colab-badge.svg\" alt=\"Open In Colab\"/></a>"
      ]
    },
    {
      "cell_type": "code",
      "execution_count": 68,
      "metadata": {
        "colab": {
          "base_uri": "https://localhost:8080/"
        },
        "id": "ciLNJmwchmom",
        "outputId": "f71fe4f4-2bbb-40e0-e753-2f112f132d40"
      },
      "outputs": [
        {
          "output_type": "stream",
          "name": "stdout",
          "text": [
            "Masukkan tinggi:5\n",
            "Masukkan lebar:4\n",
            "1 2 3 4 \n",
            "5 6 7 8 \n",
            "9 10 11 12 \n",
            "13 14 15 16 \n",
            "17 18 19 20 \n"
          ]
        }
      ],
      "source": [
        "tinggi = int(input('Masukkan tinggi:'))\n",
        "lebar = int(input('Masukkan lebar:'))\n",
        "def deret():\n",
        "  angka = 1\n",
        "  for i in range(tinggi):\n",
        "    for j in range(lebar):\n",
        "      print(angka, end=' ')\n",
        "      angka += 1\n",
        "    print()\n",
        "deret()"
      ]
    },
    {
      "cell_type": "code",
      "source": [],
      "metadata": {
        "id": "nXA7sLzLqKzF"
      },
      "execution_count": null,
      "outputs": []
    }
  ]
}