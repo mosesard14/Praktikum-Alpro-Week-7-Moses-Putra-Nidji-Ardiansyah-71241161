{
  "nbformat": 4,
  "nbformat_minor": 0,
  "metadata": {
    "colab": {
      "provenance": [],
      "authorship_tag": "ABX9TyNH7eQttk35SPZBFDHxubDT",
      "include_colab_link": true
    },
    "kernelspec": {
      "name": "python3",
      "display_name": "Python 3"
    },
    "language_info": {
      "name": "python"
    }
  },
  "cells": [
    {
      "cell_type": "markdown",
      "metadata": {
        "id": "view-in-github",
        "colab_type": "text"
      },
      "source": [
        "<a href=\"https://colab.research.google.com/github/mosesard14/Praktikum-Alpro-Week-7-Moses-Putra-Nidji-Ardiansyah-71241161/blob/main/Latihan_Mandiri_6_1_71241161.ipynb\" target=\"_parent\"><img src=\"https://colab.research.google.com/assets/colab-badge.svg\" alt=\"Open In Colab\"/></a>"
      ]
    },
    {
      "cell_type": "code",
      "source": [
        "def prima_terdekat(n):\n",
        "    for num in range(n - 1, 1, -1):\n",
        "        prima = True\n",
        "        for i in range(2, int(num ** 0.5) + 1):\n",
        "            if num % i == 0:\n",
        "                prima = False\n",
        "                break\n",
        "        if prima:\n",
        "            return num\n",
        "    return None\n",
        "\n",
        "n = int(input(\"Masukkan bilangan n: \"))\n",
        "hasil = prima_terdekat(n)\n",
        "\n",
        "if hasil:\n",
        "    print(f\"Bilangan prima terdekat < {n} adalah {hasil}\")\n",
        "else:\n",
        "    print(\"Tidak ada bilangan prima di bawah n\")\n"
      ],
      "metadata": {
        "colab": {
          "base_uri": "https://localhost:8080/"
        },
        "id": "xXOQVXjwjSjV",
        "outputId": "8d4ce2be-9509-4c84-d06a-cfe4b1744b59"
      },
      "execution_count": 4,
      "outputs": [
        {
          "output_type": "stream",
          "name": "stdout",
          "text": [
            "Masukkan bilangan n: 21\n",
            "Bilangan prima terdekat < 21 adalah 19\n"
          ]
        }
      ]
    },
    {
      "cell_type": "code",
      "execution_count": null,
      "metadata": {
        "id": "iANtXBaHhdl0"
      },
      "outputs": [],
      "source": []
    }
  ]
}