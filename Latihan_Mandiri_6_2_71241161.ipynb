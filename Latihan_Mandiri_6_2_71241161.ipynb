{
  "nbformat": 4,
  "nbformat_minor": 0,
  "metadata": {
    "colab": {
      "provenance": [],
      "authorship_tag": "ABX9TyPk40W7gM3c6pacLEB4qPsH",
      "include_colab_link": true
    },
    "kernelspec": {
      "name": "python3",
      "display_name": "Python 3"
    },
    "language_info": {
      "name": "python"
    }
  },
  "cells": [
    {
      "cell_type": "markdown",
      "metadata": {
        "id": "view-in-github",
        "colab_type": "text"
      },
      "source": [
        "<a href=\"https://colab.research.google.com/github/mosesard14/Praktikum-Alpro-Week-7-Moses-Putra-Nidji-Ardiansyah-71241161/blob/main/Latihan_Mandiri_6_2_71241161.ipynb\" target=\"_parent\"><img src=\"https://colab.research.google.com/assets/colab-badge.svg\" alt=\"Open In Colab\"/></a>"
      ]
    },
    {
      "cell_type": "code",
      "execution_count": 6,
      "metadata": {
        "colab": {
          "base_uri": "https://localhost:8080/"
        },
        "id": "ILTuXzNfhiIm",
        "outputId": "502ba244-5bd6-48f5-c3e4-ce9a57d84a34"
      },
      "outputs": [
        {
          "output_type": "stream",
          "name": "stdout",
          "text": [
            "Masukkan nilai n: 6\n",
            "720 6 5 4 3 2 1 \n",
            "120 5 4 3 2 1 \n",
            "24 4 3 2 1 \n",
            "6 3 2 1 \n",
            "2 2 1 \n",
            "1 1 \n"
          ]
        }
      ],
      "source": [
        "def deret(n):\n",
        "  for i in range(n, 0, -1):\n",
        "    faktorial = 1\n",
        "    for j in range(1, i + 1):\n",
        "      faktorial *= j\n",
        "    print(faktorial, end=' ')\n",
        "    for j in range(i, 0, - 1):\n",
        "      print(j, end=' ')\n",
        "    print()\n",
        "n = int(input(\"Masukkan nilai n: \"))\n",
        "deret(n)"
      ]
    }
  ]
}